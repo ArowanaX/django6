{
 "cells": [
  {
   "cell_type": "code",
   "execution_count": 1,
   "id": "951b5726",
   "metadata": {},
   "outputs": [],
   "source": [
    "from todo_app.models import User"
   ]
  },
  {
   "cell_type": "code",
   "execution_count": 21,
   "id": "94b0e728",
   "metadata": {},
   "outputs": [
    {
     "name": "stdout",
     "output_type": "stream",
     "text": [
      "SELECT \"todo_app_user\".\"id\", \"todo_app_user\".\"username\", \"todo_app_user\".\"active\" FROM \"todo_app_user\" WHERE \"todo_app_user\".\"username\" = اشکان\n"
     ]
    },
    {
     "data": {
      "text/plain": [
       "<QuerySet [<User: اشکان>]>"
      ]
     },
     "execution_count": 21,
     "metadata": {},
     "output_type": "execute_result"
    }
   ],
   "source": [
    "qs = User.objects.filter(username__exact=\"اشکان\")\n",
    "print(qs.query)\n",
    "qs"
   ]
  },
  {
   "cell_type": "code",
   "execution_count": 26,
   "id": "d7307430",
   "metadata": {},
   "outputs": [],
   "source": [
    "q = User.objects.create(username=\"اشکان\")"
   ]
  },
  {
   "cell_type": "code",
   "execution_count": 23,
   "id": "9295418d",
   "metadata": {},
   "outputs": [],
   "source": [
    "user = User(username=\"Mapsa\")"
   ]
  },
  {
   "cell_type": "code",
   "execution_count": 27,
   "id": "89ef43f4",
   "metadata": {},
   "outputs": [],
   "source": [
    "user.save()"
   ]
  },
  {
   "cell_type": "code",
   "execution_count": 47,
   "id": "a05feae2",
   "metadata": {},
   "outputs": [
    {
     "name": "stdout",
     "output_type": "stream",
     "text": [
      "SELECT \"todo_app_user\".\"id\", \"todo_app_user\".\"username\", \"todo_app_user\".\"active\" FROM \"todo_app_user\" WHERE (\"todo_app_user\".\"username\" LIKE %a% ESCAPE '\\' AND NOT (\"todo_app_user\".\"username\" LIKE %m% ESCAPE '\\'))\n"
     ]
    },
    {
     "data": {
      "text/plain": [
       "<QuerySet [<User: ashkan>, <User: asghar>]>"
      ]
     },
     "execution_count": 47,
     "metadata": {},
     "output_type": "execute_result"
    }
   ],
   "source": [
    "from django.db.models import Q\n",
    "qs = User.objects.filter(Q(username__contains=\"a\") & ~Q(username__icontains=\"m\"))\n",
    "print(qs.query)\n",
    "qs"
   ]
  },
  {
   "cell_type": "code",
   "execution_count": null,
   "id": "7c5a1503",
   "metadata": {},
   "outputs": [],
   "source": []
  }
 ],
 "metadata": {
  "kernelspec": {
   "display_name": "Django Shell-Plus",
   "language": "python",
   "name": "django_extensions"
  },
  "language_info": {
   "codemirror_mode": {
    "name": "ipython",
    "version": 3
   },
   "file_extension": ".py",
   "mimetype": "text/x-python",
   "name": "python",
   "nbconvert_exporter": "python",
   "pygments_lexer": "ipython3",
   "version": "3.8.10"
  }
 },
 "nbformat": 4,
 "nbformat_minor": 5
}
