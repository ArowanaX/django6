{
 "cells": [
  {
   "cell_type": "code",
   "execution_count": 1,
   "id": "951b5726",
   "metadata": {},
   "outputs": [],
   "source": [
    "from todo_app.models import User"
   ]
  },
  {
   "cell_type": "code",
   "execution_count": 21,
   "id": "94b0e728",
   "metadata": {},
   "outputs": [
    {
     "name": "stdout",
     "output_type": "stream",
     "text": [
      "SELECT \"todo_app_user\".\"id\", \"todo_app_user\".\"username\", \"todo_app_user\".\"active\" FROM \"todo_app_user\" WHERE \"todo_app_user\".\"username\" = اشکان\n"
     ]
    },
    {
     "data": {
      "text/plain": [
       "<QuerySet [<User: اشکان>]>"
      ]
     },
     "execution_count": 21,
     "metadata": {},
     "output_type": "execute_result"
    }
   ],
   "source": [
    "qs = User.objects.filter(username__exact=\"اشکان\")\n",
    "print(qs.query)\n",
    "qs"
   ]
  },
  {
   "cell_type": "code",
   "execution_count": 26,
   "id": "d7307430",
   "metadata": {},
   "outputs": [],
   "source": [
    "q = User.objects.create(username=\"اشکان\")"
   ]
  },
  {
   "cell_type": "code",
   "execution_count": 23,
   "id": "9295418d",
   "metadata": {},
   "outputs": [],
   "source": [
    "user = User(username=\"Mapsa\")"
   ]
  },
  {
   "cell_type": "code",
   "execution_count": 27,
   "id": "89ef43f4",
   "metadata": {},
   "outputs": [],
   "source": [
    "user.save()"
   ]
  },
  {
   "cell_type": "code",
   "execution_count": 47,
   "id": "a05feae2",
   "metadata": {},
   "outputs": [
    {
     "name": "stdout",
     "output_type": "stream",
     "text": [
      "SELECT \"todo_app_user\".\"id\", \"todo_app_user\".\"username\", \"todo_app_user\".\"active\" FROM \"todo_app_user\" WHERE (\"todo_app_user\".\"username\" LIKE %a% ESCAPE '\\' AND NOT (\"todo_app_user\".\"username\" LIKE %m% ESCAPE '\\'))\n"
     ]
    },
    {
     "data": {
      "text/plain": [
       "<QuerySet [<User: ashkan>, <User: asghar>]>"
      ]
     },
     "execution_count": 47,
     "metadata": {},
     "output_type": "execute_result"
    }
   ],
   "source": [
    "from django.db.models import Q\n",
    "qs = User.objects.filter(Q(username__contains=\"a\") & ~Q(username__icontains=\"m\"))\n",
    "print(qs.query)\n",
    "qs"
   ]
  },
  {
   "cell_type": "code",
   "execution_count": 1,
   "id": "7c5a1503",
   "metadata": {},
   "outputs": [],
   "source": [
    "from todo_app.models import Publication, Article, PublicationArticle"
   ]
  },
  {
   "cell_type": "code",
   "execution_count": 2,
   "id": "74f9aa1b",
   "metadata": {},
   "outputs": [],
   "source": [
    "p1 = Publication(title=\"Ashkan Dar Mapsa\")\n",
    "p1.save()"
   ]
  },
  {
   "cell_type": "code",
   "execution_count": 3,
   "id": "ccbabc69",
   "metadata": {},
   "outputs": [],
   "source": [
    "a1 = Article.objects.create(headline=\"Django is better .Net\")"
   ]
  },
  {
   "cell_type": "code",
   "execution_count": 4,
   "id": "5586bd4b",
   "metadata": {},
   "outputs": [],
   "source": [
    "pa1 = PublicationArticle(article=a1, publications=p1, rate=12)"
   ]
  },
  {
   "cell_type": "code",
   "execution_count": 5,
   "id": "89c97fe3",
   "metadata": {},
   "outputs": [],
   "source": [
    "pa1.save()"
   ]
  },
  {
   "cell_type": "code",
   "execution_count": 7,
   "id": "7474b0b0",
   "metadata": {},
   "outputs": [
    {
     "data": {
      "text/plain": [
       "datetime.datetime(2021, 12, 17, 8, 27, 58, 127185, tzinfo=<UTC>)"
      ]
     },
     "execution_count": 7,
     "metadata": {},
     "output_type": "execute_result"
    }
   ],
   "source": [
    "a1.publicationarticle_set.get(publications=p1)."
   ]
  },
  {
   "cell_type": "code",
   "execution_count": 9,
   "id": "9c29b442",
   "metadata": {},
   "outputs": [],
   "source": [
    "p2 = Publication(title=\"Iman va Payam\")\n",
    "p2.save()"
   ]
  },
  {
   "cell_type": "code",
   "execution_count": 10,
   "id": "01013a99",
   "metadata": {},
   "outputs": [],
   "source": [
    "a1.publications.add(p2, through_defaults={\"rate\": 15})"
   ]
  },
  {
   "cell_type": "code",
   "execution_count": 9,
   "id": "35268a63",
   "metadata": {},
   "outputs": [],
   "source": [
    "a1 = Article.objects.create(headline=\".Net chize badi nist ama Django Alie\")"
   ]
  },
  {
   "cell_type": "code",
   "execution_count": 11,
   "id": "38681b04",
   "metadata": {},
   "outputs": [
    {
     "ename": "TypeError",
     "evalue": "add() got an unexpected keyword argument 'p2'",
     "output_type": "error",
     "traceback": [
      "\u001b[0;31m---------------------------------------------------------------------------\u001b[0m",
      "\u001b[0;31mTypeError\u001b[0m                                 Traceback (most recent call last)",
      "\u001b[0;32m/tmp/ipykernel_30042/2742357159.py\u001b[0m in \u001b[0;36m<module>\u001b[0;34m\u001b[0m\n\u001b[0;32m----> 1\u001b[0;31m \u001b[0ma1\u001b[0m\u001b[0;34m.\u001b[0m\u001b[0mpublications\u001b[0m\u001b[0;34m.\u001b[0m\u001b[0madd\u001b[0m\u001b[0;34m(\u001b[0m\u001b[0mp1\u001b[0m\u001b[0;34m,\u001b[0m \u001b[0mp2\u001b[0m\u001b[0;34m,\u001b[0m \u001b[0mp2\u001b[0m \u001b[0;34m=\u001b[0m \u001b[0mPublication\u001b[0m\u001b[0;34m(\u001b[0m\u001b[0mtitle\u001b[0m\u001b[0;34m=\u001b[0m\u001b[0;34m\"Iman va Payam\"\u001b[0m\u001b[0;34m)\u001b[0m\u001b[0;34m)\u001b[0m\u001b[0;34m\u001b[0m\u001b[0;34m\u001b[0m\u001b[0m\n\u001b[0m",
      "\u001b[0;31mTypeError\u001b[0m: add() got an unexpected keyword argument 'p2'"
     ]
    }
   ],
   "source": [
    "a1.publications.add(p1, p2, )"
   ]
  },
  {
   "cell_type": "code",
   "execution_count": null,
   "id": "b51fb2a6",
   "metadata": {},
   "outputs": [],
   "source": []
  }
 ],
 "metadata": {
  "kernelspec": {
   "display_name": "Django Shell-Plus",
   "language": "python",
   "name": "django_extensions"
  },
  "language_info": {
   "codemirror_mode": {
    "name": "ipython",
    "version": 3
   },
   "file_extension": ".py",
   "mimetype": "text/x-python",
   "name": "python",
   "nbconvert_exporter": "python",
   "pygments_lexer": "ipython3",
   "version": "3.8.10"
  }
 },
 "nbformat": 4,
 "nbformat_minor": 5
}
