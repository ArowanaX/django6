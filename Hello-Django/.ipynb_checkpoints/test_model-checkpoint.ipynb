{
 "cells": [
  {
   "cell_type": "code",
   "execution_count": 1,
   "id": "951b5726",
   "metadata": {},
   "outputs": [],
   "source": [
    "from todo_app.models import User"
   ]
  },
  {
   "cell_type": "code",
   "execution_count": 21,
   "id": "94b0e728",
   "metadata": {},
   "outputs": [
    {
     "name": "stdout",
     "output_type": "stream",
     "text": [
      "SELECT \"todo_app_user\".\"id\", \"todo_app_user\".\"username\", \"todo_app_user\".\"active\" FROM \"todo_app_user\" WHERE \"todo_app_user\".\"username\" = اشکان\n"
     ]
    },
    {
     "data": {
      "text/plain": [
       "<QuerySet [<User: اشکان>]>"
      ]
     },
     "execution_count": 21,
     "metadata": {},
     "output_type": "execute_result"
    }
   ],
   "source": [
    "qs = User.objects.filter(username__exact=\"اشکان\")\n",
    "print(qs.query)\n",
    "qs"
   ]
  },
  {
   "cell_type": "code",
   "execution_count": 26,
   "id": "d7307430",
   "metadata": {},
   "outputs": [],
   "source": [
    "q = User.objects.create(username=\"اشکان\")"
   ]
  },
  {
   "cell_type": "code",
   "execution_count": 23,
   "id": "dfc49999",
   "metadata": {},
   "outputs": [],
   "source": [
    "user = User(username=\"Mapsa\")"
   ]
  },
  {
   "cell_type": "code",
   "execution_count": 27,
   "id": "a0fd0872",
   "metadata": {},
   "outputs": [],
   "source": [
    "user.save()"
   ]
  },
  {
   "cell_type": "code",
   "execution_count": 36,
   "id": "04684e6a",
   "metadata": {},
   "outputs": [
    {
     "ename": "SyntaxError",
     "evalue": "keyword argument repeated (916697843.py, line 1)",
     "output_type": "error",
     "traceback": [
      "\u001b[0;36m  File \u001b[0;32m\"/tmp/ipykernel_44595/916697843.py\"\u001b[0;36m, line \u001b[0;32m1\u001b[0m\n\u001b[0;31m    qs = User.objects.filter(username__contains=\"a\", username__contains=\"s\" )\u001b[0m\n\u001b[0m                                                     ^\u001b[0m\n\u001b[0;31mSyntaxError\u001b[0m\u001b[0;31m:\u001b[0m keyword argument repeated\n"
     ]
    }
   ],
   "source": [
    "from django.db imoport Q\n",
    "qs = User.objects.filter(username__contains=\"a\", username__contains=\"s\" )\n",
    "print(qs.query)"
   ]
  },
  {
   "cell_type": "code",
   "execution_count": null,
   "id": "17eb199c",
   "metadata": {},
   "outputs": [],
   "source": []
  }
 ],
 "metadata": {
  "kernelspec": {
   "display_name": "Django Shell-Plus",
   "language": "python",
   "name": "django_extensions"
  },
  "language_info": {
   "codemirror_mode": {
    "name": "ipython",
    "version": 3
   },
   "file_extension": ".py",
   "mimetype": "text/x-python",
   "name": "python",
   "nbconvert_exporter": "python",
   "pygments_lexer": "ipython3",
   "version": "3.8.10"
  }
 },
 "nbformat": 4,
 "nbformat_minor": 5
}
